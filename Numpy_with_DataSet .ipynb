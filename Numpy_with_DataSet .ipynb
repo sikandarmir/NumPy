{
 "cells": [
  {
   "cell_type": "code",
   "execution_count": 1,
   "metadata": {},
   "outputs": [],
   "source": [
    "import numpy as np"
   ]
  },
  {
   "cell_type": "code",
   "execution_count": 2,
   "metadata": {},
   "outputs": [],
   "source": [
    "data=np.loadtxt('glass.csv',delimiter=',') #Loading the data Set"
   ]
  },
  {
   "cell_type": "code",
   "execution_count": 14,
   "metadata": {},
   "outputs": [
    {
     "data": {
      "text/plain": [
       "array([[  1.     ,   1.52101,  13.64   , ...,   0.     ,   0.     ,\n",
       "          1.     ],\n",
       "       [  2.     ,   1.51761,  13.89   , ...,   0.     ,   0.     ,\n",
       "          1.     ],\n",
       "       [  3.     ,   1.51618,  13.53   , ...,   0.     ,   0.     ,\n",
       "          1.     ],\n",
       "       ...,\n",
       "       [212.     ,   1.52065,  14.36   , ...,   1.64   ,   0.     ,\n",
       "          7.     ],\n",
       "       [213.     ,   1.51651,  14.38   , ...,   1.57   ,   0.     ,\n",
       "          7.     ],\n",
       "       [214.     ,   1.51711,  14.23   , ...,   1.67   ,   0.     ,\n",
       "          7.     ]])"
      ]
     },
     "execution_count": 14,
     "metadata": {},
     "output_type": "execute_result"
    }
   ],
   "source": [
    "data"
   ]
  },
  {
   "cell_type": "code",
   "execution_count": 8,
   "metadata": {},
   "outputs": [
    {
     "name": "stdout",
     "output_type": "stream",
     "text": [
      "2\n",
      "(214, 11)\n"
     ]
    }
   ],
   "source": [
    "print(data.ndim) #Find the Number of dimensions \n",
    "print(data.shape) #Find the shape of data"
   ]
  },
  {
   "cell_type": "code",
   "execution_count": 9,
   "metadata": {},
   "outputs": [
    {
     "name": "stdout",
     "output_type": "stream",
     "text": [
      "<class 'numpy.ndarray'>\n"
     ]
    },
    {
     "data": {
      "text/plain": [
       "dtype('float64')"
      ]
     },
     "execution_count": 9,
     "metadata": {},
     "output_type": "execute_result"
    }
   ],
   "source": [
    "# Get type\n",
    "print(type(data))\n",
    "data.dtype"
   ]
  },
  {
   "cell_type": "code",
   "execution_count": 18,
   "metadata": {},
   "outputs": [
    {
     "data": {
      "text/plain": [
       "array([  1.,   2.,   3.,   4.,   5.,   6.,   7.,   8.,   9.,  10.,  11.,\n",
       "        12.,  13.,  14.,  15.,  16.,  17.,  18.,  19.,  20.,  21.,  22.,\n",
       "        23.,  24.,  25.,  26.,  27.,  28.,  29.,  30.,  31.,  32.,  33.,\n",
       "        34.,  35.,  36.,  37.,  38.,  39.,  40.,  41.,  42.,  43.,  44.,\n",
       "        45.,  46.,  47.,  48.,  49.,  50.,  51.,  52.,  53.,  54.,  55.,\n",
       "        56.,  57.,  58.,  59.,  60.,  61.,  62.,  63.,  64.,  65.,  66.,\n",
       "        67.,  68.,  69.,  70.,  71.,  72.,  73.,  74.,  75.,  76.,  77.,\n",
       "        78.,  79.,  80.,  81.,  82.,  83.,  84.,  85.,  86.,  87.,  88.,\n",
       "        89.,  90.,  91.,  92.,  93.,  94.,  95.,  96.,  97.,  98.,  99.,\n",
       "       100., 101., 102., 103., 104., 105., 106., 107., 108., 109., 110.,\n",
       "       111., 112., 113., 114., 115., 116., 117., 118., 119., 120., 121.,\n",
       "       122., 123., 124., 125., 126., 127., 128., 129., 130., 131., 132.,\n",
       "       133., 134., 135., 136., 137., 138., 139., 140., 141., 142., 143.,\n",
       "       144., 145., 146., 147., 148., 149., 150., 151., 152., 153., 154.,\n",
       "       155., 156., 157., 158., 159., 160., 161., 162., 163., 164., 165.,\n",
       "       166., 167., 168., 169., 170., 171., 172., 173., 174., 175., 176.,\n",
       "       177., 178., 179., 180., 181., 182., 183., 184., 185., 186., 187.,\n",
       "       188., 189., 190., 191., 192., 193., 194., 195., 196., 197., 198.,\n",
       "       199., 200., 201., 202., 203., 204., 205., 206., 207., 208., 209.,\n",
       "       210., 211., 212., 213., 214.])"
      ]
     },
     "execution_count": 18,
     "metadata": {},
     "output_type": "execute_result"
    }
   ],
   "source": [
    "#First colunm\n",
    "data[:,0]"
   ]
  },
  {
   "cell_type": "code",
   "execution_count": 23,
   "metadata": {},
   "outputs": [
    {
     "data": {
      "text/plain": [
       "array([[ 1.52101, 13.64   ,  4.49   , ...,  0.     ,  0.     ,  1.     ],\n",
       "       [ 1.51761, 13.89   ,  3.6    , ...,  0.     ,  0.     ,  1.     ],\n",
       "       [ 1.51618, 13.53   ,  3.55   , ...,  0.     ,  0.     ,  1.     ],\n",
       "       ...,\n",
       "       [ 1.52065, 14.36   ,  0.     , ...,  1.64   ,  0.     ,  7.     ],\n",
       "       [ 1.51651, 14.38   ,  0.     , ...,  1.57   ,  0.     ,  7.     ],\n",
       "       [ 1.51711, 14.23   ,  0.     , ...,  1.67   ,  0.     ,  7.     ]])"
      ]
     },
     "execution_count": 23,
     "metadata": {},
     "output_type": "execute_result"
    }
   ],
   "source": [
    "#Remove First colunm\n",
    "data[:,1:]"
   ]
  },
  {
   "cell_type": "code",
   "execution_count": 24,
   "metadata": {},
   "outputs": [
    {
     "data": {
      "text/plain": [
       "array([[ 1.52101, 13.64   ,  4.49   , ...,  0.     ,  0.     ,  1.     ],\n",
       "       [ 1.51761, 13.89   ,  3.6    , ...,  0.     ,  0.     ,  1.     ],\n",
       "       [ 1.51618, 13.53   ,  3.55   , ...,  0.     ,  0.     ,  1.     ],\n",
       "       ...,\n",
       "       [ 1.52065, 14.36   ,  0.     , ...,  1.64   ,  0.     ,  7.     ],\n",
       "       [ 1.51651, 14.38   ,  0.     , ...,  1.57   ,  0.     ,  7.     ],\n",
       "       [ 1.51711, 14.23   ,  0.     , ...,  1.67   ,  0.     ,  7.     ]])"
      ]
     },
     "execution_count": 24,
     "metadata": {},
     "output_type": "execute_result"
    }
   ],
   "source": [
    "#Changes in the data set\n",
    "update_Data=data[:,1:]\n",
    "update_Data"
   ]
  },
  {
   "cell_type": "code",
   "execution_count": 31,
   "metadata": {},
   "outputs": [
    {
     "data": {
      "text/plain": [
       "75.41"
      ]
     },
     "execution_count": 31,
     "metadata": {},
     "output_type": "execute_result"
    }
   ],
   "source": [
    "# Get the maximum values of the whole data set\n",
    "max_In_data = np.amax(update_Data)\n",
    "max_In_data"
   ]
  },
  {
   "cell_type": "code",
   "execution_count": 41,
   "metadata": {},
   "outputs": [
    {
     "name": "stdout",
     "output_type": "stream",
     "text": [
      "Max value of every column:  [ 1.53393 17.38     4.49     3.5     75.41     6.21    16.19     3.15\n",
      "  0.51     7.     ]\n"
     ]
    }
   ],
   "source": [
    "# Get the maximum values of each column i.e. along axis 0\n",
    "maxInColumns = np.amax(update_Data, axis=0)\n",
    "print('Max value of every column: ', maxInColumns)"
   ]
  },
  {
   "cell_type": "code",
   "execution_count": 34,
   "metadata": {},
   "outputs": [
    {
     "name": "stdout",
     "output_type": "stream",
     "text": [
      "Max value of every Row:  [71.78 72.73 72.99 72.61 73.08 72.97 73.09 73.24 72.08 72.99 73.2  73.01\n",
      " 73.28 73.21 73.29 73.24 73.11 71.36 72.12 72.73 72.75 72.02 72.79 73.02\n",
      " 72.85 73.   72.64 73.04 73.15 72.86 73.08 73.27 72.97 73.39 72.95 72.74\n",
      " 71.81 72.96 71.77 71.77 73.03 73.2  72.76 71.76 72.95 71.95 72.72 71.57\n",
      " 71.99 72.08 71.75 72.36 72.84 72.85 72.98 73.7  72.98 72.95 72.99 72.79\n",
      " 72.64 71.72 71.79 71.35 72.01 71.96 72.22 72.32 72.2  71.99 71.87 71.96\n",
      " 73.1  72.87 73.11 73.12 72.39 72.83 72.88 72.86 72.66 73.17 72.81 72.87\n",
      " 72.28 72.72 73.25 72.65 72.89 73.23 72.28 73.06 73.26 73.1  73.28 72.26\n",
      " 72.34 73.55 73.21 72.92 73.27 72.87 73.81 70.57 71.15 72.19 69.81 70.16\n",
      " 72.67 74.45 73.21 73.08 72.02 72.55 72.44 72.38 72.33 72.06 72.53 72.45\n",
      " 72.4  72.96 72.84 72.52 72.75 72.51 72.75 71.99 72.18 71.76 72.19 71.24\n",
      " 72.49 71.81 72.78 72.33 73.07 72.96 73.36 73.14 72.54 72.83 73.01 72.72\n",
      " 72.97 72.57 72.77 72.67 72.7  72.89 72.48 71.5  73.   72.69 72.61 73.01\n",
      " 72.64 71.79 72.04 71.94 72.14 72.65 71.36 69.89 72.69 72.86 73.44 73.75\n",
      " 73.88 73.03 72.22 70.48 70.7  72.25 72.18 73.39 72.37 72.76 72.38 72.67\n",
      " 74.55 72.5  72.74 73.48 75.41 72.81 71.25 72.38 70.26 70.43 73.1  73.28\n",
      " 73.46 73.02 73.29 73.39 73.23 73.28 73.1  73.05 73.5  75.18 73.72 73.11\n",
      " 73.3  72.99 73.11 72.86 72.85 72.61 73.06 73.42 73.61 73.36]\n"
     ]
    }
   ],
   "source": [
    "# Get the maximum values of each row i.e. along axis 1\n",
    "maxInRows = np.amax(update_Data, axis=1)\n",
    "print('Max value of every Row: ', maxInRows)"
   ]
  },
  {
   "cell_type": "code",
   "execution_count": 43,
   "metadata": {},
   "outputs": [
    {
     "data": {
      "text/plain": [
       "array([1.52101e+00, 1.36400e+01, 4.49000e+00, 1.10000e+00, 7.17800e+01,\n",
       "       6.00000e-02, 8.75000e+00, 0.00000e+00, 0.00000e+00, 1.00000e+00])"
      ]
     },
     "execution_count": 43,
     "metadata": {},
     "output_type": "execute_result"
    }
   ],
   "source": [
    "# Get the maximum values in row\n",
    "maxIn_first_Rows = np.amax(update_Data[0,:])\n",
    "maxIn_first_Rows\n",
    "update_Data[0,:]"
   ]
  },
  {
   "cell_type": "code",
   "execution_count": 45,
   "metadata": {},
   "outputs": [
    {
     "data": {
      "text/plain": [
       "71.78"
      ]
     },
     "execution_count": 45,
     "metadata": {},
     "output_type": "execute_result"
    }
   ],
   "source": [
    "# Get the maximum values first in row\n",
    "maxIn_first_Rows = np.amax(update_Data[0,:])\n",
    "maxIn_first_Rows"
   ]
  },
  {
   "cell_type": "code",
   "execution_count": 49,
   "metadata": {},
   "outputs": [
    {
     "data": {
      "text/plain": [
       "1.53393"
      ]
     },
     "execution_count": 49,
     "metadata": {},
     "output_type": "execute_result"
    }
   ],
   "source": [
    "# Get the maximum values first in colunm\n",
    "maxIn_first_colunm = np.amax(update_Data[:,0])\n",
    "maxIn_first_colunm"
   ]
  },
  {
   "cell_type": "code",
   "execution_count": 50,
   "metadata": {},
   "outputs": [],
   "source": [
    "#Same for the minimum np.amin()"
   ]
  },
  {
   "cell_type": "code",
   "execution_count": 51,
   "metadata": {},
   "outputs": [
    {
     "data": {
      "text/plain": [
       "array([1.51836542e+00, 1.34078505e+01, 2.68453271e+00, 1.44490654e+00,\n",
       "       7.26509346e+01, 4.97056075e-01, 8.95696262e+00, 1.75046729e-01,\n",
       "       5.70093458e-02, 2.78037383e+00])"
      ]
     },
     "execution_count": 51,
     "metadata": {},
     "output_type": "execute_result"
    }
   ],
   "source": [
    "# Get the mean values of each column i.e. along axis 0\n",
    "np.mean(update_Data, axis=0)"
   ]
  },
  {
   "cell_type": "code",
   "execution_count": 52,
   "metadata": {},
   "outputs": [
    {
     "data": {
      "text/plain": [
       "array([10.234101, 10.240761, 10.229618, 10.210766, 10.234742, 10.247596,\n",
       "       10.239743, 10.237756, 10.244918, 10.254755, 10.245571, 10.241763,\n",
       "       10.248589, 10.250748, 10.239763, 10.230761, 10.244784, 10.228196,\n",
       "       10.239911, 10.254735, 10.23775 , 10.237966, 10.228736, 10.247751,\n",
       "       10.23272 , 10.242764, 10.227793, 10.222721, 10.228768, 10.231784,\n",
       "       10.254768, 10.237747, 10.252775, 10.253753, 10.235783, 10.233567,\n",
       "       10.246909, 10.236797, 10.247213, 10.247213, 10.236793, 10.227755,\n",
       "       10.238779, 10.24821 , 10.249786, 10.2339  , 10.253869, 10.243667,\n",
       "       10.243223, 10.225898, 10.25332 , 10.253926, 10.242808, 10.224837,\n",
       "       10.242778, 10.252769, 10.235215, 10.213824, 10.251754, 10.249754,\n",
       "       10.238905, 10.242977, 10.244172, 10.232227, 10.251172, 10.237099,\n",
       "       10.252152, 10.262152, 10.253152, 10.2543  , 10.329574, 10.343848,\n",
       "       10.331593, 10.336631, 10.336596, 10.33959 , 10.318645, 10.311627,\n",
       "       10.353613, 10.32759 , 10.333592, 10.328593, 10.331646, 10.336594,\n",
       "       10.339409, 10.332625, 10.337569, 10.342645, 10.311618, 10.34464 ,\n",
       "       10.339841, 10.307605, 10.353588, 10.32759 , 10.323629, 10.31086 ,\n",
       "       10.347841, 10.343743, 10.325689, 10.331811, 10.351655, 10.30173 ,\n",
       "       10.35082 , 10.342725, 10.34441 , 10.343475, 10.348125, 10.354393,\n",
       "       10.332222, 10.323818, 10.341664, 10.333739, 10.331777, 10.353892,\n",
       "       10.324847, 10.331846, 10.335829, 10.330708, 10.348673, 10.316652,\n",
       "       10.324844, 10.344663, 10.326687, 10.331707, 10.336177, 10.342872,\n",
       "       10.323667, 10.351081, 10.355068, 10.33702 , 10.330177, 10.355614,\n",
       "       10.332813, 10.3408  , 10.336811, 10.350789, 10.352806, 10.327711,\n",
       "       10.328674, 10.336674, 10.33269 , 10.348851, 10.354662, 10.333709,\n",
       "       10.35166 , 10.349839, 10.441769, 10.42761 , 10.45067 , 10.353643,\n",
       "       10.449665, 10.456127, 10.444779, 10.41561 , 10.427694, 10.432646,\n",
       "       10.440655, 10.444121, 10.438776, 10.441796, 10.441832, 10.453934,\n",
       "       10.450211, 10.634514, 10.633915, 10.626171, 10.646151, 10.646969,\n",
       "       10.622666, 10.636994, 10.632369, 10.622316, 10.637321, 10.638043,\n",
       "       10.654058, 10.640119, 10.740905, 10.743937, 10.747829, 10.744852,\n",
       "       10.733299, 10.747888, 10.737916, 10.733969, 10.729115, 10.840131,\n",
       "       10.844838, 10.834315, 10.842247, 10.848365, 10.849613, 10.851602,\n",
       "       10.853623, 10.848719, 10.850683, 10.853545, 10.852556, 10.844727,\n",
       "       10.841531, 10.849609, 10.838508, 10.846653, 10.845514, 10.840658,\n",
       "       10.841617, 10.841732, 10.848645, 10.834831, 10.84664 , 10.846623,\n",
       "       10.847685, 10.840065, 10.849651, 10.847711])"
      ]
     },
     "execution_count": 52,
     "metadata": {},
     "output_type": "execute_result"
    }
   ],
   "source": [
    "# Get the mean values of each column i.e. along axis 0\n",
    "np.mean(update_Data, axis=1)"
   ]
  },
  {
   "cell_type": "code",
   "execution_count": 61,
   "metadata": {},
   "outputs": [
    {
     "data": {
      "text/plain": [
       "array([[ 1.52101, 13.64   ,  4.49   , ...,  0.     ,  0.     ,  1.     ],\n",
       "       [ 1.51761, 13.89   ,  3.6    , ...,  0.     ,  0.     ,  1.     ],\n",
       "       [ 1.51618, 13.53   ,  3.55   , ...,  0.     ,  0.     ,  1.     ],\n",
       "       ...,\n",
       "       [ 1.52065, 14.36   ,  0.     , ...,  1.64   ,  0.     ,  7.     ],\n",
       "       [ 1.51651, 14.38   ,  0.     , ...,  1.57   ,  0.     ,  7.     ],\n",
       "       [ 1.51711, 14.23   ,  0.     , ...,  1.67   ,  0.     ,  7.     ]])"
      ]
     },
     "execution_count": 61,
     "metadata": {},
     "output_type": "execute_result"
    }
   ],
   "source": [
    "update_Data"
   ]
  },
  {
   "cell_type": "code",
   "execution_count": 62,
   "metadata": {},
   "outputs": [
    {
     "data": {
      "text/plain": [
       "75.41"
      ]
     },
     "execution_count": 62,
     "metadata": {},
     "output_type": "execute_result"
    }
   ],
   "source": [
    "np.amax(update_Data)"
   ]
  },
  {
   "cell_type": "code",
   "execution_count": 67,
   "metadata": {},
   "outputs": [
    {
     "data": {
      "text/plain": [
       "array([[0.02016987, 0.18087787, 0.05954117, ..., 0.        , 0.        ,\n",
       "        0.01326084],\n",
       "       [0.02012478, 0.18419308, 0.04773903, ..., 0.        , 0.        ,\n",
       "        0.01326084],\n",
       "       [0.02010582, 0.17941918, 0.04707598, ..., 0.        , 0.        ,\n",
       "        0.01326084],\n",
       "       ...,\n",
       "       [0.0201651 , 0.19042567, 0.        , ..., 0.02174778, 0.        ,\n",
       "        0.09282589],\n",
       "       [0.0201102 , 0.19069089, 0.        , ..., 0.02081952, 0.        ,\n",
       "        0.09282589],\n",
       "       [0.02011815, 0.18870176, 0.        , ..., 0.0221456 , 0.        ,\n",
       "        0.09282589]])"
      ]
     },
     "execution_count": 67,
     "metadata": {},
     "output_type": "execute_result"
    }
   ],
   "source": [
    "#Most Important Point\n",
    "# Rescale the values b/w 0 to 1\n",
    "Rescale_dataSet=update_Data/np.amax(update_Data)\n",
    "Rescale_dataSet"
   ]
  },
  {
   "cell_type": "code",
   "execution_count": 68,
   "metadata": {},
   "outputs": [
    {
     "data": {
      "text/plain": [
       "1.0"
      ]
     },
     "execution_count": 68,
     "metadata": {},
     "output_type": "execute_result"
    }
   ],
   "source": [
    "np.amax(Rescale_dataSet)"
   ]
  },
  {
   "cell_type": "code",
   "execution_count": 69,
   "metadata": {},
   "outputs": [
    {
     "data": {
      "text/plain": [
       "(214, 10)"
      ]
     },
     "execution_count": 69,
     "metadata": {},
     "output_type": "execute_result"
    }
   ],
   "source": [
    "#Reshape\n",
    "update_Data.shape"
   ]
  },
  {
   "cell_type": "code",
   "execution_count": 70,
   "metadata": {},
   "outputs": [],
   "source": [
    "Transpose_data=update_Data.reshape(10,214)"
   ]
  },
  {
   "cell_type": "code",
   "execution_count": 71,
   "metadata": {},
   "outputs": [
    {
     "data": {
      "text/plain": [
       "(10, 214)"
      ]
     },
     "execution_count": 71,
     "metadata": {},
     "output_type": "execute_result"
    }
   ],
   "source": [
    "Transpose_data.shape"
   ]
  },
  {
   "cell_type": "code",
   "execution_count": 72,
   "metadata": {},
   "outputs": [],
   "source": [
    "# Task Convert dic into numpy array"
   ]
  },
  {
   "cell_type": "code",
   "execution_count": 6,
   "metadata": {},
   "outputs": [],
   "source": [
    "dict={1:'ML',2:'DL',3:'CV',4:'NLP'}"
   ]
  },
  {
   "cell_type": "code",
   "execution_count": 13,
   "metadata": {},
   "outputs": [
    {
     "data": {
      "text/plain": [
       "['ML', 'DL', 'CV', 'NLP']"
      ]
     },
     "execution_count": 13,
     "metadata": {},
     "output_type": "execute_result"
    }
   ],
   "source": [
    "  \n",
    "# to return a group of value\n",
    "result = dict.values()\n",
    "  \n",
    "# Convert object to a list\n",
    "data = list(result)\n",
    "data"
   ]
  },
  {
   "cell_type": "code",
   "execution_count": 15,
   "metadata": {},
   "outputs": [
    {
     "name": "stdout",
     "output_type": "stream",
     "text": [
      "['ML' 'DL' 'CV' 'NLP']\n"
     ]
    },
    {
     "data": {
      "text/plain": [
       "numpy.ndarray"
      ]
     },
     "execution_count": 15,
     "metadata": {},
     "output_type": "execute_result"
    }
   ],
   "source": [
    "# Convert list to an array\n",
    "numpyArray = np.array(data)\n",
    "  \n",
    "# print the numpy array\n",
    "print(numpyArray)"
   ]
  },
  {
   "cell_type": "code",
   "execution_count": null,
   "metadata": {},
   "outputs": [],
   "source": []
  }
 ],
 "metadata": {
  "kernelspec": {
   "display_name": "Python 3 (ipykernel)",
   "language": "python",
   "name": "python3"
  },
  "language_info": {
   "codemirror_mode": {
    "name": "ipython",
    "version": 3
   },
   "file_extension": ".py",
   "mimetype": "text/x-python",
   "name": "python",
   "nbconvert_exporter": "python",
   "pygments_lexer": "ipython3",
   "version": "3.9.7"
  }
 },
 "nbformat": 4,
 "nbformat_minor": 4
}
